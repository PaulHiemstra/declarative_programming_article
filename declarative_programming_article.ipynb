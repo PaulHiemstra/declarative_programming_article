{
 "cells": [
  {
   "cell_type": "markdown",
   "id": "e347bf21-a5ef-417b-8c97-63d622d2a3fc",
   "metadata": {},
   "source": [
    "# If you use a for loop you are doing it wrong\n",
    "*How a declarative mindset will help you write much better data science code*\n",
    "\n",
    "Whenever I see a for loop in a piece of data science Python code, my first response is \"that is probably not needed\". The for loop however is just one example of a more deep philosophical difference between a more traditional imperative approach to software engineering and a data science approach that is more declarative in nature. In essence, in imperative programming the focus is on telling the computer *how* to perform a task, in declarative programming we simply state *what* we want and the computer should take care of how the task is performed. This often leads to much shorter and faster code. \n",
    "\n",
    "The goal of this article is to make you aware of this difference in coding style. Especially for people transitioning into data science from more mainstream programming in for example C# or C++ getting into a declarative mindset is very important. \n",
    "\n",
    "# A well meaning iris\n",
    "The goal of our first example is to calculate the mean of a column in a dataframe. Please feel free to try and solve the issue yourself first before looking at both approaches. \n",
    "\n",
    "As a basis we use the iris dataset, and we want to calculate the mean of the `sepal_length` column:"
   ]
  },
  {
   "cell_type": "code",
   "execution_count": 18,
   "id": "1db7dd0c-7bdd-431c-a987-5dd599900d62",
   "metadata": {},
   "outputs": [
    {
     "data": {
      "text/html": [
       "<div>\n",
       "<style scoped>\n",
       "    .dataframe tbody tr th:only-of-type {\n",
       "        vertical-align: middle;\n",
       "    }\n",
       "\n",
       "    .dataframe tbody tr th {\n",
       "        vertical-align: top;\n",
       "    }\n",
       "\n",
       "    .dataframe thead th {\n",
       "        text-align: right;\n",
       "    }\n",
       "</style>\n",
       "<table border=\"1\" class=\"dataframe\">\n",
       "  <thead>\n",
       "    <tr style=\"text-align: right;\">\n",
       "      <th></th>\n",
       "      <th>sepal_length</th>\n",
       "      <th>sepal_width</th>\n",
       "      <th>petal_length</th>\n",
       "      <th>petal_width</th>\n",
       "      <th>species</th>\n",
       "    </tr>\n",
       "  </thead>\n",
       "  <tbody>\n",
       "    <tr>\n",
       "      <th>0</th>\n",
       "      <td>5.1</td>\n",
       "      <td>3.5</td>\n",
       "      <td>1.4</td>\n",
       "      <td>0.2</td>\n",
       "      <td>setosa</td>\n",
       "    </tr>\n",
       "    <tr>\n",
       "      <th>1</th>\n",
       "      <td>4.9</td>\n",
       "      <td>3.0</td>\n",
       "      <td>1.4</td>\n",
       "      <td>0.2</td>\n",
       "      <td>setosa</td>\n",
       "    </tr>\n",
       "    <tr>\n",
       "      <th>2</th>\n",
       "      <td>4.7</td>\n",
       "      <td>3.2</td>\n",
       "      <td>1.3</td>\n",
       "      <td>0.2</td>\n",
       "      <td>setosa</td>\n",
       "    </tr>\n",
       "    <tr>\n",
       "      <th>3</th>\n",
       "      <td>4.6</td>\n",
       "      <td>3.1</td>\n",
       "      <td>1.5</td>\n",
       "      <td>0.2</td>\n",
       "      <td>setosa</td>\n",
       "    </tr>\n",
       "    <tr>\n",
       "      <th>4</th>\n",
       "      <td>5.0</td>\n",
       "      <td>3.6</td>\n",
       "      <td>1.4</td>\n",
       "      <td>0.2</td>\n",
       "      <td>setosa</td>\n",
       "    </tr>\n",
       "  </tbody>\n",
       "</table>\n",
       "</div>"
      ],
      "text/plain": [
       "   sepal_length  sepal_width  petal_length  petal_width species\n",
       "0           5.1          3.5           1.4          0.2  setosa\n",
       "1           4.9          3.0           1.4          0.2  setosa\n",
       "2           4.7          3.2           1.3          0.2  setosa\n",
       "3           4.6          3.1           1.5          0.2  setosa\n",
       "4           5.0          3.6           1.4          0.2  setosa"
      ]
     },
     "execution_count": 18,
     "metadata": {},
     "output_type": "execute_result"
    }
   ],
   "source": [
    "import pandas as pd\n",
    "import seaborn as sns\n",
    "import numpy as np\n",
    "\n",
    "iris = sns.load_dataset('iris')\n",
    "iris.head()"
   ]
  },
  {
   "cell_type": "markdown",
   "id": "012fc48b-b1a4-48ee-b99b-4f6458ded470",
   "metadata": {},
   "source": [
    "We first start with the imperative approach: we iterate over the numbers in the `sepal_length` column, add them all up, keep track of the length, and finally calucalte the mean by dividing the sum total by the length of the column:"
   ]
  },
  {
   "cell_type": "code",
   "execution_count": 7,
   "id": "9686fa53-d59e-40e3-8b50-9ada4fee7f77",
   "metadata": {},
   "outputs": [
    {
     "data": {
      "text/plain": [
       "5.843333333333335"
      ]
     },
     "execution_count": 7,
     "metadata": {},
     "output_type": "execute_result"
    }
   ],
   "source": [
    "sum_total = 0\n",
    "length = 0\n",
    "for number in iris['sepal_length']:\n",
    "    sum_total += number\n",
    "    length += 1\n",
    "sum_total / length"
   ]
  },
  {
   "cell_type": "markdown",
   "id": "b40ea8b2-7e86-403b-847b-eead87b77a8a",
   "metadata": {},
   "source": [
    "Alternatively, this is the declarative approach:"
   ]
  },
  {
   "cell_type": "code",
   "execution_count": 8,
   "id": "7f4b67d9-2c61-4e30-bbd7-c8397405986a",
   "metadata": {},
   "outputs": [
    {
     "data": {
      "text/plain": [
       "5.843333333333335"
      ]
     },
     "execution_count": 8,
     "metadata": {},
     "output_type": "execute_result"
    }
   ],
   "source": [
    "iris['sepal_length'].mean()"
   ]
  },
  {
   "cell_type": "markdown",
   "id": "60c36921-d7d2-46a1-9fd5-30d3d0b6502e",
   "metadata": {},
   "source": [
    "So, in the imperative solution we spend a lot of code telling the computer what to do. In the declarative approach we simply state we want to have the mean of that particluar column. This nicely illustrates that the code is a lot shorter and operates on a higher abstraction level then the imperative approach. "
   ]
  },
  {
   "cell_type": "markdown",
   "id": "e8d89947-6fdb-4e2a-a5fd-45876cae0aaa",
   "metadata": {},
   "source": [
    "# Min-max per species\n",
    "The next example is a bit more complicated. We want to calculate the minimum and maximum of each of the measured variables per unique type of iris. So, a minimum for `sepal_length` for each of the three types of iris, the same for `sepal_width`, etc. Before looking at my answers, feel free to try this yourself. \n",
    "\n",
    "We first start with the purely imperative approach. Note that I intentionally omitted any of the smarter Python and Pandas syntax just to hammer home how much code you need to do this imperatively:"
   ]
  },
  {
   "cell_type": "code",
   "execution_count": 38,
   "id": "90f054d8-5e9f-4503-b5bf-1fa4918ac79d",
   "metadata": {},
   "outputs": [
    {
     "data": {
      "text/plain": [
       "{'sepal_length': {'setosa': 5.0, 'versicolor': 5.7, 'virginica': 5.9},\n",
       " 'sepal_width': {'setosa': 3.3, 'versicolor': 2.8, 'virginica': 3.0},\n",
       " 'petal_length': {'setosa': 1.4, 'versicolor': 4.1, 'virginica': 5.1},\n",
       " 'petal_width': {'setosa': 0.2, 'versicolor': 1.3, 'virginica': 1.8}}"
      ]
     },
     "execution_count": 38,
     "metadata": {},
     "output_type": "execute_result"
    }
   ],
   "source": [
    "# Determine unique species of iris\n",
    "iris_species = []\n",
    "for entry in iris['species']:\n",
    "    if not entry in iris_species:\n",
    "        iris_species.append(entry)\n",
    "\n",
    "# Prepare nested dictionary to store min and max values per\n",
    "# unique iris type and column in the dataset. This makes life \n",
    "# a lot easier when we actually loop over the data. \n",
    "value_columns = iris.columns[:4]\n",
    "min_values = {}\n",
    "max_values = {}\n",
    "for col in value_columns:\n",
    "    per_type = {}\n",
    "    for species in iris_species:\n",
    "        per_type[species] = np.NaN\n",
    "    min_values[col] = per_type\n",
    "    max_values[col] = per_type\n",
    "\n",
    "# Go through the data and actually determine the min and max\n",
    "for column in value_columns:\n",
    "    for idx, number in enumerate(iris[column]):\n",
    "        current_species = iris['species'][idx]\n",
    "        current_min = min_values[column][current_species]\n",
    "        if (np.isnan(current_min)) or (number < current_min):\n",
    "            current_min = number\n",
    "        min_values[column][current_species] = current_min   \n",
    "        \n",
    "        current_max = min_values[column][current_species]\n",
    "        if (np.isnan(current_max)) or (number > current_max):\n",
    "            current_max = number\n",
    "        max_values[column][current_species] = current_max \n",
    "        \n",
    "min_values"
   ]
  },
  {
   "cell_type": "code",
   "execution_count": 39,
   "id": "0981b764-5efd-4363-8404-790dc358288d",
   "metadata": {},
   "outputs": [
    {
     "data": {
      "text/plain": [
       "{'sepal_length': {'setosa': 5.0, 'versicolor': 5.7, 'virginica': 5.9},\n",
       " 'sepal_width': {'setosa': 3.3, 'versicolor': 2.8, 'virginica': 3.0},\n",
       " 'petal_length': {'setosa': 1.4, 'versicolor': 4.1, 'virginica': 5.1},\n",
       " 'petal_width': {'setosa': 0.2, 'versicolor': 1.3, 'virginica': 1.8}}"
      ]
     },
     "execution_count": 39,
     "metadata": {},
     "output_type": "execute_result"
    }
   ],
   "source": [
    "max_values"
   ]
  },
  {
   "cell_type": "markdown",
   "id": "c6b5e81f-d17b-4c15-bfc0-694158f98c33",
   "metadata": {},
   "source": [
    "The beauty of the declarative approach is that it almost directly follows from the problem statement: "
   ]
  },
  {
   "cell_type": "code",
   "execution_count": 9,
   "id": "c6b6635a-d230-4890-80df-5f22d10f870a",
   "metadata": {},
   "outputs": [
    {
     "data": {
      "text/html": [
       "<div>\n",
       "<style scoped>\n",
       "    .dataframe tbody tr th:only-of-type {\n",
       "        vertical-align: middle;\n",
       "    }\n",
       "\n",
       "    .dataframe tbody tr th {\n",
       "        vertical-align: top;\n",
       "    }\n",
       "\n",
       "    .dataframe thead tr th {\n",
       "        text-align: left;\n",
       "    }\n",
       "\n",
       "    .dataframe thead tr:last-of-type th {\n",
       "        text-align: right;\n",
       "    }\n",
       "</style>\n",
       "<table border=\"1\" class=\"dataframe\">\n",
       "  <thead>\n",
       "    <tr>\n",
       "      <th></th>\n",
       "      <th colspan=\"2\" halign=\"left\">sepal_length</th>\n",
       "      <th colspan=\"2\" halign=\"left\">sepal_width</th>\n",
       "      <th colspan=\"2\" halign=\"left\">petal_length</th>\n",
       "      <th colspan=\"2\" halign=\"left\">petal_width</th>\n",
       "    </tr>\n",
       "    <tr>\n",
       "      <th></th>\n",
       "      <th>min</th>\n",
       "      <th>max</th>\n",
       "      <th>min</th>\n",
       "      <th>max</th>\n",
       "      <th>min</th>\n",
       "      <th>max</th>\n",
       "      <th>min</th>\n",
       "      <th>max</th>\n",
       "    </tr>\n",
       "    <tr>\n",
       "      <th>species</th>\n",
       "      <th></th>\n",
       "      <th></th>\n",
       "      <th></th>\n",
       "      <th></th>\n",
       "      <th></th>\n",
       "      <th></th>\n",
       "      <th></th>\n",
       "      <th></th>\n",
       "    </tr>\n",
       "  </thead>\n",
       "  <tbody>\n",
       "    <tr>\n",
       "      <th>setosa</th>\n",
       "      <td>4.3</td>\n",
       "      <td>5.8</td>\n",
       "      <td>2.3</td>\n",
       "      <td>4.4</td>\n",
       "      <td>1.0</td>\n",
       "      <td>1.9</td>\n",
       "      <td>0.1</td>\n",
       "      <td>0.6</td>\n",
       "    </tr>\n",
       "    <tr>\n",
       "      <th>versicolor</th>\n",
       "      <td>4.9</td>\n",
       "      <td>7.0</td>\n",
       "      <td>2.0</td>\n",
       "      <td>3.4</td>\n",
       "      <td>3.0</td>\n",
       "      <td>5.1</td>\n",
       "      <td>1.0</td>\n",
       "      <td>1.8</td>\n",
       "    </tr>\n",
       "    <tr>\n",
       "      <th>virginica</th>\n",
       "      <td>4.9</td>\n",
       "      <td>7.9</td>\n",
       "      <td>2.2</td>\n",
       "      <td>3.8</td>\n",
       "      <td>4.5</td>\n",
       "      <td>6.9</td>\n",
       "      <td>1.4</td>\n",
       "      <td>2.5</td>\n",
       "    </tr>\n",
       "  </tbody>\n",
       "</table>\n",
       "</div>"
      ],
      "text/plain": [
       "           sepal_length      sepal_width      petal_length      petal_width  \\\n",
       "                    min  max         min  max          min  max         min   \n",
       "species                                                                       \n",
       "setosa              4.3  5.8         2.3  4.4          1.0  1.9         0.1   \n",
       "versicolor          4.9  7.0         2.0  3.4          3.0  5.1         1.0   \n",
       "virginica           4.9  7.9         2.2  3.8          4.5  6.9         1.4   \n",
       "\n",
       "                 \n",
       "            max  \n",
       "species          \n",
       "setosa      0.6  \n",
       "versicolor  1.8  \n",
       "virginica   2.5  "
      ]
     },
     "execution_count": 9,
     "metadata": {},
     "output_type": "execute_result"
    }
   ],
   "source": [
    "# we want to calculate the minimum and maximum of each of the measured variables per unique type of iris.\n",
    "(\n",
    "    iris\n",
    "      .groupby(['species'])   # each of the measured variables per unique type of iris\n",
    "      .agg(['min', 'max'])    # calculate the minimum and maximum\n",
    ")"
   ]
  },
  {
   "cell_type": "markdown",
   "id": "e08425fc-187d-4a2c-8fed-be8e9f91431c",
   "metadata": {},
   "source": [
    "This code is:\n",
    "\n",
    "- Much much shorter: 3 line versus 34 lines. \n",
    "- More versatile then the imperative code. For example, adding `median` in addition to `min` and `max` is a lot simpler. \n",
    "- A lot faster for bigger datasets. \n",
    "\n",
    "# Finally declarative\n",
    "To really get into the declarative mindset will take some time. Especially for people who are already experienced in other more imperative languages this can be hard. A good excercise is to force yourself to solve problems using the builtin pandas solutions. If you feel yourself going to explicit loops, go back to the drawing board. For loops are not always the wrong answer, but in the beginning I would err on the side of caution. "
   ]
  }
 ],
 "metadata": {
  "kernelspec": {
   "display_name": "Python 3",
   "language": "python",
   "name": "python3"
  },
  "language_info": {
   "codemirror_mode": {
    "name": "ipython",
    "version": 3
   },
   "file_extension": ".py",
   "mimetype": "text/x-python",
   "name": "python",
   "nbconvert_exporter": "python",
   "pygments_lexer": "ipython3",
   "version": "3.8.8"
  }
 },
 "nbformat": 4,
 "nbformat_minor": 5
}
